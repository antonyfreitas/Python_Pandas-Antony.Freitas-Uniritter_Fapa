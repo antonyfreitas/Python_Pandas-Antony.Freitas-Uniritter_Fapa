{
  "nbformat": 4,
  "nbformat_minor": 0,
  "metadata": {
    "colab": {
      "provenance": [],
      "authorship_tag": "ABX9TyOVfp8p9qu4lL1dmjfkA+wb",
      "include_colab_link": true
    },
    "kernelspec": {
      "name": "python3",
      "display_name": "Python 3"
    },
    "language_info": {
      "name": "python"
    }
  },
  "cells": [
    {
      "cell_type": "markdown",
      "metadata": {
        "id": "view-in-github",
        "colab_type": "text"
      },
      "source": [
        "<a href=\"https://colab.research.google.com/github/antonyfreitas/Python_Pandas-Antony.Freitas-Uniritter_Fapa/blob/main/teste_graficos.ipynb\" target=\"_parent\"><img src=\"https://colab.research.google.com/assets/colab-badge.svg\" alt=\"Open In Colab\"/></a>"
      ]
    },
    {
      "cell_type": "code",
      "source": [
        "!pip install pandas"
      ],
      "metadata": {
        "id": "cBe4K8eNmj0C"
      },
      "execution_count": null,
      "outputs": []
    },
    {
      "cell_type": "code",
      "execution_count": null,
      "metadata": {
        "id": "9unnd_YjlHx4"
      },
      "outputs": [],
      "source": [
        "import matplotlib.pyplot as plt\n",
        "import pandas as pd\n",
        "\n",
        "combustiveis_df = pd.read_excel(\"ca-2021-02.xlsx\")\n"
      ]
    },
    {
      "cell_type": "code",
      "source": [
        "plt.hist(combustiveis_df['Valor de Venda'])\n",
        "\n",
        "plt.title(\"Preço dos combustiveis - Nov/2021\")\n",
        "\n",
        "plt.xlabel(\"Preço (em reais)\")  \n",
        "plt.ylabel(\"Quantidade de Coletas\")\n",
        "\n",
        "plt.axvline(combustiveis_df['Valor de Venda'].mean(), color='red', linestyle='dashed', linewidth=5)\n",
        "\n",
        "plt.show()"
      ],
      "metadata": {
        "colab": {
          "base_uri": "https://localhost:8080/",
          "height": 295
        },
        "id": "P39EVRu1pZgJ",
        "outputId": "ae0dfcd4-8bdc-4b1c-e695-6bc1c6e3a93a"
      },
      "execution_count": null,
      "outputs": [
        {
          "output_type": "display_data",
          "data": {
            "text/plain": [
              "<Figure size 432x288 with 1 Axes>"
            ],
            "image/png": "[encoded data removed]"
          },
          "metadata": {
            "needs_background": "light"
          }
        }
      ]
    },
    {
      "cell_type": "code",
      "source": [
        "c_mean  =  combustiveis_df['Valor de Venda'].groupby(by=combustiveis_df['Produto']).mean()\n",
        "display(c_mean)"
      ],
      "metadata": {
        "colab": {
          "base_uri": "https://localhost:8080/",
          "height": 156
        },
        "id": "LslDfy9bsaDQ",
        "outputId": "a7a0f681-5cc8-4fff-86f0-9e2ca53999dd"
      },
      "execution_count": null,
      "outputs": [
        {
          "output_type": "display_data",
          "data": {
            "text/plain": [
              "Produto\n",
              "DIESEL                5.375682\n",
              "DIESEL S10            5.454901\n",
              "ETANOL                5.456115\n",
              "GASOLINA              6.708741\n",
              "GASOLINA ADITIVADA    6.860422\n",
              "GNV                   4.392935\n",
              "Name: Valor de Venda, dtype: float64"
            ]
          },
          "metadata": {}
        }
      ]
    },
    {
      "cell_type": "code",
      "source": [
        "#Vou definir a área do gráfico\n",
        "plt.figure(figsize=(8,6))\n",
        "\n",
        "#Plotar o gráfico\n",
        "c_mean.plot(\n",
        "    kind=\"barh\",\n",
        "    xlabel=\"Tipo de Combustível\",\n",
        "    ylabel=\"Preço reais/litro\",\n",
        "    color=\"tan\",\n",
        "    )\n",
        "\n",
        "plt.grid()\n",
        "plt.show()"
      ],
      "metadata": {
        "id": "k6_LZl49s1Eh",
        "colab": {
          "base_uri": "https://localhost:8080/",
          "height": 374
        },
        "outputId": "d42b50f0-8c1f-4498-ff56-076f43c8ec15"
      },
      "execution_count": null,
      "outputs": [
        {
          "output_type": "display_data",
          "data": {
            "text/plain": [
              "<Figure size 576x432 with 1 Axes>"
            ],
            "image/png": "[encoded data removed]"
          },
          "metadata": {
            "needs_background": "light"
          }
        }
      ]
    },
    {
      "cell_type": "code",
      "source": [
        "import numpy as np\n",
        "\n",
        "#combustiveis_df = pd.read_excel(\"ca-2021-02.xlsx\")\n",
        "\n",
        "\n",
        "np.random.seed(3)\n",
        "x = 0.5 + np.arange(8)\n",
        "y = np.random.uniform(2, 7, len(x))\n",
        "\n",
        "fig, ax = plt.subplots()\n",
        "\n",
        "ax.stem(x, y)\n",
        "\n",
        "ax.set(xlim=(0, 8), xticks=np.arange(1, 8),\n",
        "       ylim=(0, 8), yticks=np.arange(1, 8))\n",
        "\n",
        "plt.show()"
      ],
      "metadata": {
        "colab": {
          "base_uri": "https://localhost:8080/",
          "height": 320
        },
        "id": "a8EIIZxyva7E",
        "outputId": "99222310-c178-4e4f-dad7-cdf33093ee3c"
      },
      "execution_count": null,
      "outputs": [
        {
          "output_type": "stream",
          "name": "stderr",
          "text": [
            "<ipython-input-37-2508d4635fa9>:12: UserWarning: In Matplotlib 3.3 individual lines on a stem plot will be added as a LineCollection instead of individual lines. This significantly improves the performance of a stem plot. To remove this warning and switch to the new behaviour, set the \"use_line_collection\" keyword argument to True.\n",
            "  ax.stem(x, y)\n"
          ]
        },
        {
          "output_type": "display_data",
          "data": {
            "text/plain": [
              "<Figure size 432x288 with 1 Axes>"
            ],
            "image/png": "[encoded data removed]"
          },
          "metadata": {
            "needs_background": "light"
          }
        }
      ]
    },
    {
      "cell_type": "code",
      "source": [],
      "metadata": {
        "id": "dvgfVCv6xYPw"
      },
      "execution_count": null,
      "outputs": []
    },
    {
      "cell_type": "code",
      "source": [
        "import numpy as np\n",
        "\n",
        "# make data\n",
        "c_mean.arange( fig, ax = plt.subplots()\n",
        "\n",
        "ax.set(xlim=(0, 8), xticks=np.arange(1, 8),\n",
        "       ylim=(0, 8), yticks=np.arange(1, 8))\n",
        ")\n",
        "plt.show()"
      ],
      "metadata": {
        "colab": {
          "base_uri": "https://localhost:8080/",
          "height": 130
        },
        "outputId": "a2437fae-0475-43fe-d069-e7887672ff6e",
        "id": "lhVwJgwcxnKH"
      },
      "execution_count": null,
      "outputs": [
        {
          "output_type": "error",
          "ename": "SyntaxError",
          "evalue": "ignored",
          "traceback": [
            "\u001b[0;36m  File \u001b[0;32m\"<ipython-input-39-92cc070ed5bd>\"\u001b[0;36m, line \u001b[0;32m6\u001b[0m\n\u001b[0;31m    ax.set(xlim=(0, 8), xticks=np.arange(1, 8),\u001b[0m\n\u001b[0m    ^\u001b[0m\n\u001b[0;31mSyntaxError\u001b[0m\u001b[0;31m:\u001b[0m invalid syntax\n"
          ]
        }
      ]
    },
    {
      "cell_type": "code",
      "source": [],
      "metadata": {
        "id": "Pk4F0066xYV3"
      },
      "execution_count": null,
      "outputs": []
    }
  ]
}