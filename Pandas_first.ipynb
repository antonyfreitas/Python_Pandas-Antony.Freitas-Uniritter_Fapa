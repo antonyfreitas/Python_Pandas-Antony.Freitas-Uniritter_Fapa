{
  "nbformat": 4,
  "nbformat_minor": 0,
  "metadata": {
    "colab": {
      "provenance": [],
      "authorship_tag": "ABX9TyMFFTg51f6L7m6bFmG1PRyI",
      "include_colab_link": true
    },
    "kernelspec": {
      "name": "python3",
      "display_name": "Python 3"
    },
    "language_info": {
      "name": "python"
    }
  },
  "cells": [
    {
      "cell_type": "markdown",
      "metadata": {
        "id": "view-in-github",
        "colab_type": "text"
      },
      "source": [
        "<a href=\"https://colab.research.google.com/github/antonyfreitas/Python_Pandas-Antony.Freitas-Uniritter_Fapa/blob/main/Pandas_first.ipynb\" target=\"_parent\"><img src=\"https://colab.research.google.com/assets/colab-badge.svg\" alt=\"Open In Colab\"/></a>"
      ]
    },
    {
      "cell_type": "markdown",
      "source": [
        "**Primeiro exemplo de manipulação de dados usando Python Pandas**\n",
        "\n",
        "Autor: Antony Freitas"
      ],
      "metadata": {
        "id": "ouASg-I2Uomy"
      }
    },
    {
      "cell_type": "code",
      "source": [
        "!pip install pandas"
      ],
      "metadata": {
        "id": "ya2Y7IhMVONi"
      },
      "execution_count": null,
      "outputs": []
    },
    {
      "cell_type": "code",
      "execution_count": null,
      "metadata": {
        "id": "NjHxrgcGUig9"
      },
      "outputs": [],
      "source": [
        "#importando biblionteca Pandas no Python\n",
        "import pandas as pd\n",
        "\n",
        "combustiveis_df = pd.read_excel(\"ca-2021-02.xlsx\")"
      ]
    },
    {
      "cell_type": "code",
      "source": [
        "display(combustiveis_df)"
      ],
      "metadata": {
        "id": "nVz7ESOKEvf6"
      },
      "execution_count": null,
      "outputs": []
    },
    {
      "cell_type": "code",
      "source": [
        "#Exibe as primeiras 5 linhas\n",
        "display(combustiveis_df.head())"
      ],
      "metadata": {
        "id": "F2RjffdzDufo"
      },
      "execution_count": null,
      "outputs": []
    },
    {
      "cell_type": "code",
      "source": [
        "# Comandos Datafreme.shepe e Datafreme.describe()\n",
        "print(combustiveis_df.shape)"
      ],
      "metadata": {
        "id": "SFW5aTe7FsPT"
      },
      "execution_count": null,
      "outputs": []
    },
    {
      "cell_type": "code",
      "source": [
        "# Comandos Datafreme.shepe e Datafreme.describe()\n",
        "print(combustiveis_df.describe())"
      ],
      "metadata": {
        "id": "zZZMB8yBIruK"
      },
      "execution_count": null,
      "outputs": []
    },
    {
      "cell_type": "code",
      "source": [
        "print(combustiveis_df.info())"
      ],
      "metadata": {
        "id": "ccVlwOJuLod5"
      },
      "execution_count": null,
      "outputs": []
    },
    {
      "cell_type": "code",
      "source": [
        "# Filtrar apenas por uma coluna\n",
        "display(combustiveis_df['Revenda'].head(10))"
      ],
      "metadata": {
        "id": "Ab8OlJCjUiDE"
      },
      "execution_count": null,
      "outputs": []
    },
    {
      "cell_type": "code",
      "source": [
        "#Aqui criamos um novo dataframe apenas com as colunas que eu quero..\n",
        "ca_df = combustiveis_df[['Revenda', 'Municipio', 'Produto', 'Valor de Venda']] \n",
        "display(ca_df)"
      ],
      "metadata": {
        "id": "IMLMJq15ZtTN"
      },
      "execution_count": null,
      "outputs": []
    },
    {
      "cell_type": "code",
      "source": [
        "#mostrar uma linha\n",
        "display(ca_df.loc[3333])"
      ],
      "metadata": {
        "colab": {
          "base_uri": "https://localhost:8080/",
          "height": 104
        },
        "id": "rKUrX85KcCGh",
        "outputId": "ce81a1b8-9870-470f-f979-e46f8a6ab44a"
      },
      "execution_count": 31,
      "outputs": [
        {
          "output_type": "display_data",
          "data": {
            "text/plain": [
              "Revenda           CASA AVENIDA COMERCIO DE COMBUSTIVEIS LTDA\n",
              "Municipio                                 PARAGUACU PAULISTA\n",
              "Produto                                   GASOLINA ADITIVADA\n",
              "Valor de Venda                                         6.289\n",
              "Name: 3333, dtype: object"
            ]
          },
          "metadata": {}
        }
      ]
    },
    {
      "cell_type": "code",
      "source": [
        "# mostrar uma sequencia de linhas\n",
        "display(ca_df[98:109])"
      ],
      "metadata": {
        "colab": {
          "base_uri": "https://localhost:8080/",
          "height": 394
        },
        "id": "T__HqDEDdcxZ",
        "outputId": "37de3358-ada6-493d-a125-e2658ad49454"
      },
      "execution_count": 38,
      "outputs": [
        {
          "output_type": "display_data",
          "data": {
            "text/plain": [
              "                                               Revenda Municipio  \\\n",
              "98            ECOPOSTOS - COMBUSTIVEIS E SERVICOS LTDA  SALVADOR   \n",
              "99            ECOPOSTOS - COMBUSTIVEIS E SERVICOS LTDA  SALVADOR   \n",
              "100           ECOPOSTOS - COMBUSTIVEIS E SERVICOS LTDA  SALVADOR   \n",
              "101  PACIFICO COMERCIO E SERVICOS DE COMBUSTIVEIS LTDA  SALVADOR   \n",
              "102  PACIFICO COMERCIO E SERVICOS DE COMBUSTIVEIS LTDA  SALVADOR   \n",
              "103  PACIFICO COMERCIO E SERVICOS DE COMBUSTIVEIS LTDA  SALVADOR   \n",
              "104  PACIFICO COMERCIO E SERVICOS DE COMBUSTIVEIS LTDA  SALVADOR   \n",
              "105                       LMT COMERCIO E SERVICOS LTDA  SALVADOR   \n",
              "106                       LMT COMERCIO E SERVICOS LTDA  SALVADOR   \n",
              "107                       LMT COMERCIO E SERVICOS LTDA  SALVADOR   \n",
              "108                       LMT COMERCIO E SERVICOS LTDA  SALVADOR   \n",
              "\n",
              "                Produto  Valor de Venda  \n",
              "98               ETANOL           5.990  \n",
              "99   GASOLINA ADITIVADA           7.290  \n",
              "100          DIESEL S10           5.790  \n",
              "101            GASOLINA           6.890  \n",
              "102              ETANOL           5.490  \n",
              "103  GASOLINA ADITIVADA           6.990  \n",
              "104          DIESEL S10           5.790  \n",
              "105            GASOLINA           6.999  \n",
              "106              ETANOL           6.099  \n",
              "107  GASOLINA ADITIVADA           7.299  \n",
              "108          DIESEL S10           5.799  "
            ],
            "text/html": [
              "\n",
              "  <div id=\"df-6937c42d-9207-4d46-a697-330251c52a33\">\n",
              "    <div class=\"colab-df-container\">\n",
              "      <div>\n",
              "<style scoped>\n",
              "    .dataframe tbody tr th:only-of-type {\n",
              "        vertical-align: middle;\n",
              "    }\n",
              "\n",
              "    .dataframe tbody tr th {\n",
              "        vertical-align: top;\n",
              "    }\n",
              "\n",
              "    .dataframe thead th {\n",
              "        text-align: right;\n",
              "    }\n",
              "</style>\n",
              "<table border=\"1\" class=\"dataframe\">\n",
              "  <thead>\n",
              "    <tr style=\"text-align: right;\">\n",
              "      <th></th>\n",
              "      <th>Revenda</th>\n",
              "      <th>Municipio</th>\n",
              "      <th>Produto</th>\n",
              "      <th>Valor de Venda</th>\n",
              "    </tr>\n",
              "  </thead>\n",
              "  <tbody>\n",
              "    <tr>\n",
              "      <th>98</th>\n",
              "      <td>ECOPOSTOS - COMBUSTIVEIS E SERVICOS LTDA</td>\n",
              "      <td>SALVADOR</td>\n",
              "      <td>ETANOL</td>\n",
              "      <td>5.990</td>\n",
              "    </tr>\n",
              "    <tr>\n",
              "      <th>99</th>\n",
              "      <td>ECOPOSTOS - COMBUSTIVEIS E SERVICOS LTDA</td>\n",
              "      <td>SALVADOR</td>\n",
              "      <td>GASOLINA ADITIVADA</td>\n",
              "      <td>7.290</td>\n",
              "    </tr>\n",
              "    <tr>\n",
              "      <th>100</th>\n",
              "      <td>ECOPOSTOS - COMBUSTIVEIS E SERVICOS LTDA</td>\n",
              "      <td>SALVADOR</td>\n",
              "      <td>DIESEL S10</td>\n",
              "      <td>5.790</td>\n",
              "    </tr>\n",
              "    <tr>\n",
              "      <th>101</th>\n",
              "      <td>PACIFICO COMERCIO E SERVICOS DE COMBUSTIVEIS LTDA</td>\n",
              "      <td>SALVADOR</td>\n",
              "      <td>GASOLINA</td>\n",
              "      <td>6.890</td>\n",
              "    </tr>\n",
              "    <tr>\n",
              "      <th>102</th>\n",
              "      <td>PACIFICO COMERCIO E SERVICOS DE COMBUSTIVEIS LTDA</td>\n",
              "      <td>SALVADOR</td>\n",
              "      <td>ETANOL</td>\n",
              "      <td>5.490</td>\n",
              "    </tr>\n",
              "    <tr>\n",
              "      <th>103</th>\n",
              "      <td>PACIFICO COMERCIO E SERVICOS DE COMBUSTIVEIS LTDA</td>\n",
              "      <td>SALVADOR</td>\n",
              "      <td>GASOLINA ADITIVADA</td>\n",
              "      <td>6.990</td>\n",
              "    </tr>\n",
              "    <tr>\n",
              "      <th>104</th>\n",
              "      <td>PACIFICO COMERCIO E SERVICOS DE COMBUSTIVEIS LTDA</td>\n",
              "      <td>SALVADOR</td>\n",
              "      <td>DIESEL S10</td>\n",
              "      <td>5.790</td>\n",
              "    </tr>\n",
              "    <tr>\n",
              "      <th>105</th>\n",
              "      <td>LMT COMERCIO E SERVICOS LTDA</td>\n",
              "      <td>SALVADOR</td>\n",
              "      <td>GASOLINA</td>\n",
              "      <td>6.999</td>\n",
              "    </tr>\n",
              "    <tr>\n",
              "      <th>106</th>\n",
              "      <td>LMT COMERCIO E SERVICOS LTDA</td>\n",
              "      <td>SALVADOR</td>\n",
              "      <td>ETANOL</td>\n",
              "      <td>6.099</td>\n",
              "    </tr>\n",
              "    <tr>\n",
              "      <th>107</th>\n",
              "      <td>LMT COMERCIO E SERVICOS LTDA</td>\n",
              "      <td>SALVADOR</td>\n",
              "      <td>GASOLINA ADITIVADA</td>\n",
              "      <td>7.299</td>\n",
              "    </tr>\n",
              "    <tr>\n",
              "      <th>108</th>\n",
              "      <td>LMT COMERCIO E SERVICOS LTDA</td>\n",
              "      <td>SALVADOR</td>\n",
              "      <td>DIESEL S10</td>\n",
              "      <td>5.799</td>\n",
              "    </tr>\n",
              "  </tbody>\n",
              "</table>\n",
              "</div>\n",
              "      <button class=\"colab-df-convert\" onclick=\"convertToInteractive('df-6937c42d-9207-4d46-a697-330251c52a33')\"\n",
              "              title=\"Convert this dataframe to an interactive table.\"\n",
              "              style=\"display:none;\">\n",
              "        \n",
              "  <svg xmlns=\"http://www.w3.org/2000/svg\" height=\"24px\"viewBox=\"0 0 24 24\"\n",
              "       width=\"24px\">\n",
              "    <path d=\"M0 0h24v24H0V0z\" fill=\"none\"/>\n",
              "    <path d=\"M18.56 5.44l.94 2.06.94-2.06 2.06-.94-2.06-.94-.94-2.06-.94 2.06-2.06.94zm-11 1L8.5 8.5l.94-2.06 2.06-.94-2.06-.94L8.5 2.5l-.94 2.06-2.06.94zm10 10l.94 2.06.94-2.06 2.06-.94-2.06-.94-.94-2.06-.94 2.06-2.06.94z\"/><path d=\"M17.41 7.96l-1.37-1.37c-.4-.4-.92-.59-1.43-.59-.52 0-1.04.2-1.43.59L10.3 9.45l-7.72 7.72c-.78.78-.78 2.05 0 2.83L4 21.41c.39.39.9.59 1.41.59.51 0 1.02-.2 1.41-.59l7.78-7.78 2.81-2.81c.8-.78.8-2.07 0-2.86zM5.41 20L4 18.59l7.72-7.72 1.47 1.35L5.41 20z\"/>\n",
              "  </svg>\n",
              "      </button>\n",
              "      \n",
              "  <style>\n",
              "    .colab-df-container {\n",
              "      display:flex;\n",
              "      flex-wrap:wrap;\n",
              "      gap: 12px;\n",
              "    }\n",
              "\n",
              "    .colab-df-convert {\n",
              "      background-color: #E8F0FE;\n",
              "      border: none;\n",
              "      border-radius: 50%;\n",
              "      cursor: pointer;\n",
              "      display: none;\n",
              "      fill: #1967D2;\n",
              "      height: 32px;\n",
              "      padding: 0 0 0 0;\n",
              "      width: 32px;\n",
              "    }\n",
              "\n",
              "    .colab-df-convert:hover {\n",
              "      background-color: #E2EBFA;\n",
              "      box-shadow: 0px 1px 2px rgba(60, 64, 67, 0.3), 0px 1px 3px 1px rgba(60, 64, 67, 0.15);\n",
              "      fill: #174EA6;\n",
              "    }\n",
              "\n",
              "    [theme=dark] .colab-df-convert {\n",
              "      background-color: #3B4455;\n",
              "      fill: #D2E3FC;\n",
              "    }\n",
              "\n",
              "    [theme=dark] .colab-df-convert:hover {\n",
              "      background-color: #434B5C;\n",
              "      box-shadow: 0px 1px 3px 1px rgba(0, 0, 0, 0.15);\n",
              "      filter: drop-shadow(0px 1px 2px rgba(0, 0, 0, 0.3));\n",
              "      fill: #FFFFFF;\n",
              "    }\n",
              "  </style>\n",
              "\n",
              "      <script>\n",
              "        const buttonEl =\n",
              "          document.querySelector('#df-6937c42d-9207-4d46-a697-330251c52a33 button.colab-df-convert');\n",
              "        buttonEl.style.display =\n",
              "          google.colab.kernel.accessAllowed ? 'block' : 'none';\n",
              "\n",
              "        async function convertToInteractive(key) {\n",
              "          const element = document.querySelector('#df-6937c42d-9207-4d46-a697-330251c52a33');\n",
              "          const dataTable =\n",
              "            await google.colab.kernel.invokeFunction('convertToInteractive',\n",
              "                                                     [key], {});\n",
              "          if (!dataTable) return;\n",
              "\n",
              "          const docLinkHtml = 'Like what you see? Visit the ' +\n",
              "            '<a target=\"_blank\" href=https://colab.research.google.com/notebooks/data_table.ipynb>data table notebook</a>'\n",
              "            + ' to learn more about interactive tables.';\n",
              "          element.innerHTML = '';\n",
              "          dataTable['output_type'] = 'display_data';\n",
              "          await google.colab.output.renderOutput(dataTable, element);\n",
              "          const docLink = document.createElement('div');\n",
              "          docLink.innerHTML = docLinkHtml;\n",
              "          element.appendChild(docLink);\n",
              "        }\n",
              "      </script>\n",
              "    </div>\n",
              "  </div>\n",
              "  "
            ]
          },
          "metadata": {}
        }
      ]
    },
    {
      "cell_type": "code",
      "source": [
        "#Criar um Dataframe gas_df contendo apenas 4 colunas (revenda, municipio, Produto, Valor do Produto)\n",
        "#Somente com combustivel sendo gasolina e exibir na tela\n",
        "gas_df = ca_df.loc[ca_df['Produto'] == 'GASOLINA']\n",
        "\n",
        "display(gas_df['Valor de Venda'].max())"
      ],
      "metadata": {
        "colab": {
          "base_uri": "https://localhost:8080/",
          "height": 34
        },
        "id": "jNBejTRIfGiw",
        "outputId": "42ea923e-0818-4ae1-c34a-d09b7c4301c7"
      },
      "execution_count": 35,
      "outputs": [
        {
          "output_type": "display_data",
          "data": {
            "text/plain": [
              "7.999"
            ]
          },
          "metadata": {}
        }
      ]
    },
    {
      "cell_type": "markdown",
      "source": [],
      "metadata": {
        "id": "u2_bWbXghWzx"
      }
    },
    {
      "cell_type": "code",
      "source": [
        "display(gas_df[['Revenda', 'Municipio', 'Valor de Venda']].max())"
      ],
      "metadata": {
        "colab": {
          "base_uri": "https://localhost:8080/",
          "height": 86
        },
        "id": "LlFpegRuhYpO",
        "outputId": "24f4f839-eb57-43a3-e7c9-07d790416875"
      },
      "execution_count": 37,
      "outputs": [
        {
          "output_type": "display_data",
          "data": {
            "text/plain": [
              "Revenda           ZV POSTO DE SERVIÇO LTDA.\n",
              "Municipio                           XANXERE\n",
              "Valor de Venda                        7.999\n",
              "dtype: object"
            ]
          },
          "metadata": {}
        }
      ]
    }
  ]
}